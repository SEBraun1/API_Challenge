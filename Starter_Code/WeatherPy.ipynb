{
 "cells": [
  {
   "cell_type": "markdown",
   "metadata": {},
   "source": [
    "# WeatherPy\n",
    "\n",
    "---\n",
    "\n",
    "## Starter Code to Generate Random Geographic Coordinates and a List of Cities"
   ]
  },
  {
   "cell_type": "code",
   "execution_count": 1,
   "metadata": {
    "scrolled": true
   },
   "outputs": [],
   "source": [
    "# Dependencies and Setup\n",
    "import matplotlib.pyplot as plt\n",
    "import pandas as pd\n",
    "import numpy as np\n",
    "import requests\n",
    "import time\n",
    "from scipy.stats import linregress\n",
    "\n",
    "# Impor the OpenWeatherMap API key\n",
    "from api_keys import weather_api_key\n",
    "\n",
    "# Import citipy to determine the cities based on latitude and longitude\n",
    "from citipy import citipy"
   ]
  },
  {
   "cell_type": "markdown",
   "metadata": {},
   "source": [
    "### Generate the Cities List by Using the `citipy` Library"
   ]
  },
  {
   "cell_type": "code",
   "execution_count": 2,
   "metadata": {},
   "outputs": [
    {
     "name": "stdout",
     "output_type": "stream",
     "text": [
      "Number of cities in the list: 633\n"
     ]
    }
   ],
   "source": [
    "# Empty list for holding the latitude and longitude combinations\n",
    "lat_lngs = []\n",
    "\n",
    "# Empty list for holding the cities names\n",
    "cities = []\n",
    "\n",
    "# Range of latitudes and longitudes\n",
    "lat_range = (-90, 90)\n",
    "lng_range = (-180, 180)\n",
    "\n",
    "# Create a set of random lat and lng combinations\n",
    "lats = np.random.uniform(lat_range[0], lat_range[1], size=1500)\n",
    "lngs = np.random.uniform(lng_range[0], lng_range[1], size=1500)\n",
    "lat_lngs = zip(lats, lngs)\n",
    "\n",
    "# Identify nearest city for each lat, lng combination\n",
    "for lat_lng in lat_lngs:\n",
    "    city = citipy.nearest_city(lat_lng[0], lat_lng[1]).city_name\n",
    "    \n",
    "    # If the city is unique, then add it to a our cities list\n",
    "    if city not in cities:\n",
    "        cities.append(city)\n",
    "\n",
    "# Print the city count to confirm sufficient count\n",
    "print(f\"Number of cities in the list: {len(cities)}\")"
   ]
  },
  {
   "cell_type": "markdown",
   "metadata": {},
   "source": [
    "---"
   ]
  },
  {
   "cell_type": "markdown",
   "metadata": {},
   "source": [
    "## Requirement 1: Create Plots to Showcase the Relationship Between Weather Variables and Latitude\n",
    "\n",
    "### Use the OpenWeatherMap API to retrieve weather data from the cities list generated in the started code"
   ]
  },
  {
   "cell_type": "code",
   "execution_count": 3,
   "metadata": {},
   "outputs": [
    {
     "name": "stdout",
     "output_type": "stream",
     "text": [
      "Beginning Data Retrieval     \n",
      "-----------------------------\n",
      "Processing Record 1 of Set 1 | college\n",
      "Processing Record 2 of Set 1 | chokurdakh\n",
      "Processing Record 3 of Set 1 | kasongo-lunda\n",
      "Processing Record 4 of Set 1 | esperance\n",
      "Processing Record 5 of Set 1 | tuktoyaktuk\n",
      "Processing Record 6 of Set 1 | hilo\n",
      "Processing Record 7 of Set 1 | komsomolskiy\n",
      "Processing Record 8 of Set 1 | puerto ayora\n",
      "Processing Record 9 of Set 1 | albany\n",
      "Processing Record 10 of Set 1 | castro\n",
      "Processing Record 11 of Set 1 | rawatsar\n",
      "Processing Record 12 of Set 1 | tasiilaq\n",
      "Processing Record 13 of Set 1 | bluff\n",
      "Processing Record 14 of Set 1 | new norfolk\n",
      "Processing Record 15 of Set 1 | ushuaia\n",
      "Processing Record 16 of Set 1 | portland\n",
      "Processing Record 17 of Set 1 | illoqqortoormiut\n",
      "City not found. Skipping...\n",
      "Processing Record 18 of Set 1 | mar del plata\n",
      "Processing Record 19 of Set 1 | georgetown\n",
      "Processing Record 20 of Set 1 | gornoye loo\n",
      "Processing Record 21 of Set 1 | atuona\n",
      "Processing Record 22 of Set 1 | busselton\n",
      "Processing Record 23 of Set 1 | ribeira grande\n",
      "Processing Record 24 of Set 1 | gat\n",
      "Processing Record 25 of Set 1 | punta arenas\n",
      "Processing Record 26 of Set 1 | yellowknife\n",
      "Processing Record 27 of Set 1 | thompson\n",
      "Processing Record 28 of Set 1 | ancud\n",
      "Processing Record 29 of Set 1 | loandjili\n",
      "Processing Record 30 of Set 1 | tuatapere\n",
      "Processing Record 31 of Set 1 | hithadhoo\n",
      "Processing Record 32 of Set 1 | rikitea\n",
      "Processing Record 33 of Set 1 | kahului\n",
      "Processing Record 34 of Set 1 | cherskiy\n",
      "Processing Record 35 of Set 1 | ipixuna\n",
      "Processing Record 36 of Set 1 | mola di bari\n",
      "Processing Record 37 of Set 1 | cape town\n",
      "Processing Record 38 of Set 1 | morehead\n",
      "Processing Record 39 of Set 1 | saint anthony\n",
      "Processing Record 40 of Set 1 | simpang\n",
      "Processing Record 41 of Set 1 | khatanga\n",
      "Processing Record 42 of Set 1 | belushya guba\n",
      "City not found. Skipping...\n",
      "Processing Record 43 of Set 1 | zhigansk\n",
      "Processing Record 44 of Set 1 | arraial do cabo\n",
      "Processing Record 45 of Set 1 | amderma\n",
      "City not found. Skipping...\n",
      "Processing Record 46 of Set 1 | terme\n",
      "Processing Record 47 of Set 1 | avarua\n",
      "Processing Record 48 of Set 1 | saint-philippe\n",
      "Processing Record 49 of Set 1 | netrakona\n",
      "Processing Record 50 of Set 1 | tiksi\n",
      "Processing Record 0 of Set 2 | vaini\n",
      "Processing Record 1 of Set 2 | kamenskoye\n",
      "City not found. Skipping...\n",
      "Processing Record 2 of Set 2 | esfarayen\n",
      "Processing Record 3 of Set 2 | klaksvik\n",
      "Processing Record 4 of Set 2 | east london\n",
      "Processing Record 5 of Set 2 | jamestown\n",
      "Processing Record 6 of Set 2 | saskylakh\n",
      "Processing Record 7 of Set 2 | menongue\n",
      "Processing Record 8 of Set 2 | kurchum\n",
      "Processing Record 9 of Set 2 | caravelas\n",
      "Processing Record 10 of Set 2 | roma\n",
      "Processing Record 11 of Set 2 | barawe\n",
      "City not found. Skipping...\n",
      "Processing Record 12 of Set 2 | pevek\n",
      "Processing Record 13 of Set 2 | vaitupu\n",
      "City not found. Skipping...\n",
      "Processing Record 14 of Set 2 | el badari\n",
      "City not found. Skipping...\n",
      "Processing Record 15 of Set 2 | virginia beach\n",
      "Processing Record 16 of Set 2 | samusu\n",
      "City not found. Skipping...\n",
      "Processing Record 17 of Set 2 | rocha\n",
      "Processing Record 18 of Set 2 | poco verde\n",
      "Processing Record 19 of Set 2 | hays\n",
      "Processing Record 20 of Set 2 | port alfred\n",
      "Processing Record 21 of Set 2 | tapaua\n",
      "City not found. Skipping...\n",
      "Processing Record 22 of Set 2 | dangriga\n",
      "Processing Record 23 of Set 2 | ponnani\n",
      "Processing Record 24 of Set 2 | saint-augustin\n",
      "Processing Record 25 of Set 2 | kavaratti\n",
      "Processing Record 26 of Set 2 | evensk\n",
      "Processing Record 27 of Set 2 | khonuu\n",
      "City not found. Skipping...\n",
      "Processing Record 28 of Set 2 | kodiak\n",
      "Processing Record 29 of Set 2 | ahipara\n",
      "Processing Record 30 of Set 2 | yanggu\n",
      "Processing Record 31 of Set 2 | upernavik\n",
      "Processing Record 32 of Set 2 | barentsburg\n",
      "City not found. Skipping...\n",
      "Processing Record 33 of Set 2 | rolim de moura\n",
      "City not found. Skipping...\n",
      "Processing Record 34 of Set 2 | luanda\n",
      "Processing Record 35 of Set 2 | kapaa\n",
      "Processing Record 36 of Set 2 | arari\n",
      "Processing Record 37 of Set 2 | parangan\n",
      "Processing Record 38 of Set 2 | barrow\n",
      "Processing Record 39 of Set 2 | mys shmidta\n",
      "City not found. Skipping...\n",
      "Processing Record 40 of Set 2 | mount gambier\n",
      "Processing Record 41 of Set 2 | faya\n",
      "Processing Record 42 of Set 2 | qaanaaq\n",
      "Processing Record 43 of Set 2 | lagos\n",
      "Processing Record 44 of Set 2 | leshukonskoye\n",
      "Processing Record 45 of Set 2 | hermanus\n",
      "Processing Record 46 of Set 2 | tsihombe\n",
      "City not found. Skipping...\n",
      "Processing Record 47 of Set 2 | evans\n",
      "Processing Record 48 of Set 2 | iqaluit\n",
      "Processing Record 49 of Set 2 | kavieng\n",
      "Processing Record 0 of Set 3 | provideniya\n",
      "Processing Record 1 of Set 3 | sulangan\n",
      "Processing Record 2 of Set 3 | the pas\n",
      "Processing Record 3 of Set 3 | kruisfontein\n",
      "Processing Record 4 of Set 3 | ingham\n",
      "Processing Record 5 of Set 3 | longyearbyen\n",
      "Processing Record 6 of Set 3 | alice springs\n",
      "Processing Record 7 of Set 3 | aripuana\n",
      "Processing Record 8 of Set 3 | emden\n",
      "Processing Record 9 of Set 3 | shirokiy\n",
      "Processing Record 10 of Set 3 | taolanaro\n",
      "City not found. Skipping...\n",
      "Processing Record 11 of Set 3 | sao felix do xingu\n",
      "Processing Record 12 of Set 3 | nabire\n",
      "Processing Record 13 of Set 3 | olafsvik\n",
      "Processing Record 14 of Set 3 | pedernales\n",
      "Processing Record 15 of Set 3 | kokuy\n",
      "Processing Record 16 of Set 3 | kaitangata\n",
      "Processing Record 17 of Set 3 | catuday\n",
      "Processing Record 18 of Set 3 | mataura\n",
      "Processing Record 19 of Set 3 | cidreira\n",
      "Processing Record 20 of Set 3 | kaeo\n",
      "Processing Record 21 of Set 3 | wattegama\n",
      "Processing Record 22 of Set 3 | ponta delgada\n",
      "Processing Record 23 of Set 3 | port elizabeth\n",
      "Processing Record 24 of Set 3 | katsuura\n",
      "Processing Record 25 of Set 3 | ilulissat\n",
      "Processing Record 26 of Set 3 | palabuhanratu\n",
      "City not found. Skipping...\n",
      "Processing Record 27 of Set 3 | ilula\n",
      "Processing Record 28 of Set 3 | grand river south east\n",
      "City not found. Skipping...\n",
      "Processing Record 29 of Set 3 | tabou\n",
      "Processing Record 30 of Set 3 | bathsheba\n",
      "Processing Record 31 of Set 3 | victoria\n",
      "Processing Record 32 of Set 3 | ziarat\n",
      "Processing Record 33 of Set 3 | tidore\n",
      "City not found. Skipping...\n",
      "Processing Record 34 of Set 3 | tambacounda\n",
      "Processing Record 35 of Set 3 | alekseyevsk\n",
      "Processing Record 36 of Set 3 | verkhoyansk\n",
      "Processing Record 37 of Set 3 | bredasdorp\n",
      "Processing Record 38 of Set 3 | iracoubo\n",
      "Processing Record 39 of Set 3 | codrington\n",
      "Processing Record 40 of Set 3 | touros\n",
      "Processing Record 41 of Set 3 | kamaishi\n",
      "Processing Record 42 of Set 3 | port pirie\n",
      "Processing Record 43 of Set 3 | san luis\n",
      "Processing Record 44 of Set 3 | altay\n",
      "Processing Record 45 of Set 3 | monrovia\n",
      "Processing Record 46 of Set 3 | constitucion\n",
      "Processing Record 47 of Set 3 | acin\n",
      "City not found. Skipping...\n",
      "Processing Record 48 of Set 3 | elizabeth city\n",
      "Processing Record 49 of Set 3 | hovd\n",
      "Processing Record 0 of Set 4 | tautira\n",
      "Processing Record 1 of Set 4 | ngorongoro\n",
      "Processing Record 2 of Set 4 | sobolevo\n",
      "Processing Record 3 of Set 4 | ostrovnoy\n",
      "Processing Record 4 of Set 4 | alexandria\n",
      "Processing Record 5 of Set 4 | lenger\n",
      "Processing Record 6 of Set 4 | puerto suarez\n",
      "Processing Record 7 of Set 4 | yerbogachen\n",
      "Processing Record 8 of Set 4 | geraldton\n",
      "Processing Record 9 of Set 4 | avera\n",
      "Processing Record 10 of Set 4 | bilibino\n",
      "Processing Record 11 of Set 4 | hobart\n",
      "Processing Record 12 of Set 4 | guerrero negro\n",
      "Processing Record 13 of Set 4 | dunedin\n",
      "Processing Record 14 of Set 4 | iralaya\n",
      "Processing Record 15 of Set 4 | andros town\n",
      "Processing Record 16 of Set 4 | turukhansk\n",
      "Processing Record 17 of Set 4 | kupang\n",
      "Processing Record 18 of Set 4 | severodvinsk\n",
      "Processing Record 19 of Set 4 | cap malheureux\n",
      "Processing Record 20 of Set 4 | san patricio\n",
      "Processing Record 21 of Set 4 | coquimbo\n",
      "Processing Record 22 of Set 4 | talcahuano\n",
      "Processing Record 23 of Set 4 | hirara\n",
      "Processing Record 24 of Set 4 | pidhorodne\n",
      "Processing Record 25 of Set 4 | dikson\n",
      "Processing Record 26 of Set 4 | petropavlovsk-kamchatskiy\n",
      "Processing Record 27 of Set 4 | sola\n",
      "Processing Record 28 of Set 4 | nouadhibou\n",
      "Processing Record 29 of Set 4 | korla\n",
      "Processing Record 30 of Set 4 | marevo\n",
      "Processing Record 31 of Set 4 | hamilton\n",
      "Processing Record 32 of Set 4 | marly\n",
      "Processing Record 33 of Set 4 | havre-saint-pierre\n"
     ]
    },
    {
     "name": "stdout",
     "output_type": "stream",
     "text": [
      "Processing Record 34 of Set 4 | nadvoitsy\n",
      "Processing Record 35 of Set 4 | normandin\n",
      "Processing Record 36 of Set 4 | ganzhou\n",
      "Processing Record 37 of Set 4 | vao\n",
      "Processing Record 38 of Set 4 | duliagaon\n",
      "Processing Record 39 of Set 4 | fort nelson\n",
      "Processing Record 40 of Set 4 | zalantun\n",
      "Processing Record 41 of Set 4 | beringovskiy\n",
      "Processing Record 42 of Set 4 | carnarvon\n",
      "Processing Record 43 of Set 4 | taltal\n",
      "Processing Record 44 of Set 4 | saldanha\n",
      "Processing Record 45 of Set 4 | nisia floresta\n",
      "Processing Record 46 of Set 4 | sindal\n",
      "Processing Record 47 of Set 4 | shubarshi\n",
      "Processing Record 48 of Set 4 | itaituba\n",
      "Processing Record 49 of Set 4 | jatai\n",
      "Processing Record 0 of Set 5 | muriae\n",
      "Processing Record 1 of Set 5 | saint-francois\n",
      "Processing Record 2 of Set 5 | leh\n",
      "Processing Record 3 of Set 5 | karkaralinsk\n",
      "City not found. Skipping...\n",
      "Processing Record 4 of Set 5 | buchanan\n",
      "Processing Record 5 of Set 5 | rawah\n",
      "Processing Record 6 of Set 5 | mamakan\n",
      "Processing Record 7 of Set 5 | yar-sale\n",
      "Processing Record 8 of Set 5 | birao\n",
      "Processing Record 9 of Set 5 | warqla\n",
      "City not found. Skipping...\n",
      "Processing Record 10 of Set 5 | islamkot\n",
      "Processing Record 11 of Set 5 | berlevag\n",
      "Processing Record 12 of Set 5 | payo\n",
      "Processing Record 13 of Set 5 | karauzyak\n",
      "City not found. Skipping...\n",
      "Processing Record 14 of Set 5 | bosaso\n",
      "Processing Record 15 of Set 5 | mareeba\n",
      "Processing Record 16 of Set 5 | kadykchan\n",
      "City not found. Skipping...\n",
      "Processing Record 17 of Set 5 | cockburn town\n",
      "Processing Record 18 of Set 5 | peniche\n",
      "Processing Record 19 of Set 5 | taoudenni\n",
      "Processing Record 20 of Set 5 | chirilagua\n",
      "Processing Record 21 of Set 5 | babstovo\n",
      "Processing Record 22 of Set 5 | gazanjyk\n",
      "Processing Record 23 of Set 5 | sistranda\n",
      "Processing Record 24 of Set 5 | steinau\n",
      "Processing Record 25 of Set 5 | airai\n",
      "Processing Record 26 of Set 5 | anadyr\n",
      "Processing Record 27 of Set 5 | bodden town\n",
      "Processing Record 28 of Set 5 | pasighat\n",
      "Processing Record 29 of Set 5 | placido de castro\n",
      "Processing Record 30 of Set 5 | ojuelos de jalisco\n",
      "Processing Record 31 of Set 5 | la ligua\n",
      "Processing Record 32 of Set 5 | souillac\n",
      "Processing Record 33 of Set 5 | kamina\n",
      "Processing Record 34 of Set 5 | puerto ayacucho\n",
      "Processing Record 35 of Set 5 | azimur\n",
      "City not found. Skipping...\n",
      "Processing Record 36 of Set 5 | oster\n",
      "Processing Record 37 of Set 5 | burica\n",
      "City not found. Skipping...\n",
      "Processing Record 38 of Set 5 | aklavik\n",
      "Processing Record 39 of Set 5 | bilma\n",
      "Processing Record 40 of Set 5 | kyra\n",
      "Processing Record 41 of Set 5 | port hardy\n",
      "Processing Record 42 of Set 5 | nikolskoye\n",
      "Processing Record 43 of Set 5 | marcona\n",
      "City not found. Skipping...\n",
      "Processing Record 44 of Set 5 | nizhneyansk\n",
      "City not found. Skipping...\n",
      "Processing Record 45 of Set 5 | merauke\n",
      "Processing Record 46 of Set 5 | chuy\n",
      "Processing Record 47 of Set 5 | agadir\n",
      "Processing Record 48 of Set 5 | kyshtovka\n",
      "Processing Record 49 of Set 5 | labuhan\n",
      "Processing Record 0 of Set 6 | azua\n",
      "Processing Record 1 of Set 6 | bandarbeyla\n",
      "Processing Record 2 of Set 6 | orsha\n",
      "Processing Record 3 of Set 6 | saleaula\n",
      "City not found. Skipping...\n",
      "Processing Record 4 of Set 6 | saint george\n",
      "Processing Record 5 of Set 6 | lugovoy\n",
      "Processing Record 6 of Set 6 | champerico\n",
      "Processing Record 7 of Set 6 | cam pha\n",
      "City not found. Skipping...\n",
      "Processing Record 8 of Set 6 | clyde river\n",
      "Processing Record 9 of Set 6 | dabat\n",
      "Processing Record 10 of Set 6 | te anau\n",
      "Processing Record 11 of Set 6 | oksovskiy\n",
      "Processing Record 12 of Set 6 | margate\n",
      "Processing Record 13 of Set 6 | narsaq\n",
      "Processing Record 14 of Set 6 | kieta\n",
      "Processing Record 15 of Set 6 | kyrksaeterora\n",
      "Processing Record 16 of Set 6 | ponta do sol\n",
      "Processing Record 17 of Set 6 | sechura\n",
      "Processing Record 18 of Set 6 | nishihara\n",
      "Processing Record 19 of Set 6 | torbay\n",
      "Processing Record 20 of Set 6 | hervey bay\n",
      "Processing Record 21 of Set 6 | namibe\n",
      "Processing Record 22 of Set 6 | kamenka\n",
      "Processing Record 23 of Set 6 | merzifon\n",
      "Processing Record 24 of Set 6 | macusani\n",
      "Processing Record 25 of Set 6 | maumere\n",
      "Processing Record 26 of Set 6 | redmond\n",
      "Processing Record 27 of Set 6 | attawapiskat\n",
      "City not found. Skipping...\n",
      "Processing Record 28 of Set 6 | joaima\n",
      "Processing Record 29 of Set 6 | bonavista\n",
      "Processing Record 30 of Set 6 | srednekolymsk\n",
      "Processing Record 31 of Set 6 | coffs harbour\n",
      "Processing Record 32 of Set 6 | troy\n",
      "Processing Record 33 of Set 6 | scottsburgh\n",
      "City not found. Skipping...\n",
      "Processing Record 34 of Set 6 | nacozari\n",
      "Processing Record 35 of Set 6 | luderitz\n",
      "Processing Record 36 of Set 6 | lorengau\n",
      "Processing Record 37 of Set 6 | yulara\n",
      "Processing Record 38 of Set 6 | madang\n",
      "Processing Record 39 of Set 6 | mezen\n",
      "Processing Record 40 of Set 6 | sentyabrskiy\n",
      "City not found. Skipping...\n",
      "Processing Record 41 of Set 6 | pirai do sul\n",
      "Processing Record 42 of Set 6 | dali\n",
      "Processing Record 43 of Set 6 | kachug\n",
      "Processing Record 44 of Set 6 | gravdal\n",
      "Processing Record 45 of Set 6 | marjamaa\n",
      "Processing Record 46 of Set 6 | dingle\n",
      "Processing Record 47 of Set 6 | isangel\n",
      "Processing Record 48 of Set 6 | laguna\n",
      "Processing Record 49 of Set 6 | handan\n",
      "Processing Record 0 of Set 7 | oistins\n",
      "Processing Record 1 of Set 7 | butaritari\n",
      "Processing Record 2 of Set 7 | victoria point\n",
      "Processing Record 3 of Set 7 | rungata\n",
      "City not found. Skipping...\n",
      "Processing Record 4 of Set 7 | rio gallegos\n",
      "Processing Record 5 of Set 7 | araouane\n",
      "Processing Record 6 of Set 7 | san cristobal\n",
      "Processing Record 7 of Set 7 | kiama\n",
      "Processing Record 8 of Set 7 | tigil\n",
      "Processing Record 9 of Set 7 | norman wells\n",
      "Processing Record 10 of Set 7 | sasovo\n",
      "Processing Record 11 of Set 7 | langangen\n",
      "City not found. Skipping...\n",
      "Processing Record 12 of Set 7 | sitka\n",
      "Processing Record 13 of Set 7 | vardo\n",
      "Processing Record 14 of Set 7 | kamloops\n",
      "Processing Record 15 of Set 7 | sembakung\n",
      "Processing Record 16 of Set 7 | bakchar\n",
      "Processing Record 17 of Set 7 | luganville\n",
      "Processing Record 18 of Set 7 | naze\n",
      "Processing Record 19 of Set 7 | altamont\n",
      "Processing Record 20 of Set 7 | fortuna\n",
      "Processing Record 21 of Set 7 | pouembout\n",
      "Processing Record 22 of Set 7 | bahia honda\n",
      "Processing Record 23 of Set 7 | santiago del estero\n",
      "Processing Record 24 of Set 7 | cagbang\n",
      "Processing Record 25 of Set 7 | jinchengjiang\n",
      "City not found. Skipping...\n",
      "Processing Record 26 of Set 7 | hualmay\n",
      "Processing Record 27 of Set 7 | falealupo\n",
      "City not found. Skipping...\n",
      "Processing Record 28 of Set 7 | villa rica\n",
      "Processing Record 29 of Set 7 | hami\n",
      "Processing Record 30 of Set 7 | quang ngai\n",
      "Processing Record 31 of Set 7 | deputatskiy\n",
      "Processing Record 32 of Set 7 | arandis\n",
      "Processing Record 33 of Set 7 | nome\n",
      "Processing Record 34 of Set 7 | nago\n",
      "Processing Record 35 of Set 7 | qinzhou\n",
      "Processing Record 36 of Set 7 | tamandare\n",
      "Processing Record 37 of Set 7 | bethel\n",
      "Processing Record 38 of Set 7 | sao joao da barra\n",
      "Processing Record 39 of Set 7 | aksarayskiy\n",
      "Processing Record 40 of Set 7 | egvekinot\n",
      "Processing Record 41 of Set 7 | kudahuvadhoo\n",
      "Processing Record 42 of Set 7 | ranot\n",
      "Processing Record 43 of Set 7 | galgani\n",
      "City not found. Skipping...\n",
      "Processing Record 44 of Set 7 | cadillac\n",
      "Processing Record 45 of Set 7 | ogulin\n",
      "Processing Record 46 of Set 7 | namatanai\n",
      "Processing Record 47 of Set 7 | padang\n",
      "Processing Record 48 of Set 7 | hailar\n",
      "Processing Record 49 of Set 7 | port-cartier\n",
      "Processing Record 0 of Set 8 | uige\n",
      "Processing Record 1 of Set 8 | macau\n",
      "Processing Record 2 of Set 8 | ciawi\n",
      "Processing Record 3 of Set 8 | ixtapa\n",
      "Processing Record 4 of Set 8 | great falls\n",
      "Processing Record 5 of Set 8 | otanche\n",
      "Processing Record 6 of Set 8 | hasaki\n",
      "Processing Record 7 of Set 8 | huarmey\n",
      "Processing Record 8 of Set 8 | eruwa\n",
      "Processing Record 9 of Set 8 | vermilion\n",
      "Processing Record 10 of Set 8 | mme\n",
      "City not found. Skipping...\n",
      "Processing Record 11 of Set 8 | solovetskiy\n",
      "City not found. Skipping...\n",
      "Processing Record 12 of Set 8 | aquin\n",
      "Processing Record 13 of Set 8 | sao filipe\n",
      "Processing Record 14 of Set 8 | leningradskiy\n",
      "Processing Record 15 of Set 8 | verkh-neyvinskiy\n",
      "Processing Record 16 of Set 8 | nemuro\n",
      "Processing Record 17 of Set 8 | palmerston\n",
      "Processing Record 18 of Set 8 | lebu\n",
      "Processing Record 19 of Set 8 | toppenish\n",
      "Processing Record 20 of Set 8 | jalu\n"
     ]
    },
    {
     "name": "stdout",
     "output_type": "stream",
     "text": [
      "Processing Record 21 of Set 8 | lavrentiya\n",
      "Processing Record 22 of Set 8 | dogondoutchi\n",
      "Processing Record 23 of Set 8 | lapao\n",
      "Processing Record 24 of Set 8 | lappeenranta\n",
      "Processing Record 25 of Set 8 | uyuni\n",
      "Processing Record 26 of Set 8 | ushtobe\n",
      "Processing Record 27 of Set 8 | vostok\n",
      "Processing Record 28 of Set 8 | alihe\n",
      "Processing Record 29 of Set 8 | salym\n",
      "Processing Record 30 of Set 8 | zabaykalsk\n",
      "Processing Record 31 of Set 8 | esmeraldas\n",
      "Processing Record 32 of Set 8 | zaysan\n",
      "Processing Record 33 of Set 8 | faanui\n",
      "Processing Record 34 of Set 8 | saint-pierre\n",
      "Processing Record 35 of Set 8 | beinamar\n",
      "Processing Record 36 of Set 8 | victor harbor\n",
      "Processing Record 37 of Set 8 | auki\n",
      "Processing Record 38 of Set 8 | ambilobe\n",
      "Processing Record 39 of Set 8 | binzhou\n",
      "Processing Record 40 of Set 8 | bambous virieux\n",
      "Processing Record 41 of Set 8 | hofn\n",
      "Processing Record 42 of Set 8 | meulaboh\n",
      "Processing Record 43 of Set 8 | mangan\n",
      "Processing Record 44 of Set 8 | shieli\n",
      "Processing Record 45 of Set 8 | oltu\n",
      "Processing Record 46 of Set 8 | borjomi\n",
      "Processing Record 47 of Set 8 | xushan\n",
      "Processing Record 48 of Set 8 | mahebourg\n",
      "Processing Record 49 of Set 8 | bhum\n",
      "Processing Record 0 of Set 9 | catamarca\n",
      "Processing Record 1 of Set 9 | lake wales\n",
      "Processing Record 2 of Set 9 | nizhniy kuranakh\n",
      "Processing Record 3 of Set 9 | mehamn\n",
      "Processing Record 4 of Set 9 | bubaque\n",
      "Processing Record 5 of Set 9 | coihaique\n",
      "Processing Record 6 of Set 9 | dzaoudzi\n",
      "Processing Record 7 of Set 9 | sumenep\n",
      "Processing Record 8 of Set 9 | sorong\n",
      "Processing Record 9 of Set 9 | taphan hin\n",
      "Processing Record 10 of Set 9 | sorvag\n",
      "City not found. Skipping...\n",
      "Processing Record 11 of Set 9 | yuanping\n",
      "Processing Record 12 of Set 9 | blackwater\n",
      "Processing Record 13 of Set 9 | sinnamary\n",
      "Processing Record 14 of Set 9 | townsville\n",
      "Processing Record 15 of Set 9 | rio grande\n",
      "Processing Record 16 of Set 9 | tommot\n",
      "Processing Record 17 of Set 9 | kursumlija\n",
      "Processing Record 18 of Set 9 | severo-kurilsk\n",
      "Processing Record 19 of Set 9 | wulanhaote\n",
      "City not found. Skipping...\n",
      "Processing Record 20 of Set 9 | lensk\n",
      "Processing Record 21 of Set 9 | mbeya\n",
      "Processing Record 22 of Set 9 | joensuu\n",
      "Processing Record 23 of Set 9 | iquitos\n",
      "Processing Record 24 of Set 9 | bengkulu\n",
      "Processing Record 25 of Set 9 | malyye derbety\n",
      "Processing Record 26 of Set 9 | moose factory\n",
      "Processing Record 27 of Set 9 | qaqortoq\n",
      "Processing Record 28 of Set 9 | kismayo\n",
      "Processing Record 29 of Set 9 | samalaeulu\n",
      "City not found. Skipping...\n",
      "Processing Record 30 of Set 9 | panama city\n",
      "Processing Record 31 of Set 9 | kenda\n",
      "Processing Record 32 of Set 9 | yomitan\n",
      "City not found. Skipping...\n",
      "Processing Record 33 of Set 9 | aquiraz\n",
      "Processing Record 34 of Set 9 | douala\n",
      "Processing Record 35 of Set 9 | aberdeen\n",
      "Processing Record 36 of Set 9 | la sarre\n",
      "Processing Record 37 of Set 9 | eskasem\n",
      "City not found. Skipping...\n",
      "Processing Record 38 of Set 9 | bargal\n",
      "City not found. Skipping...\n",
      "Processing Record 39 of Set 9 | qui nhon\n",
      "Processing Record 40 of Set 9 | marathon\n",
      "Processing Record 41 of Set 9 | stepnyak\n",
      "Processing Record 42 of Set 9 | truro\n",
      "Processing Record 43 of Set 9 | yumen\n",
      "Processing Record 44 of Set 9 | sorland\n",
      "Processing Record 45 of Set 9 | bongandanga\n",
      "Processing Record 46 of Set 9 | ruatoria\n",
      "City not found. Skipping...\n",
      "Processing Record 47 of Set 9 | chicama\n",
      "Processing Record 48 of Set 9 | talnakh\n",
      "Processing Record 49 of Set 9 | lagoa\n",
      "Processing Record 0 of Set 10 | san vicente\n",
      "Processing Record 1 of Set 10 | los llanos de aridane\n",
      "Processing Record 2 of Set 10 | esso\n",
      "Processing Record 3 of Set 10 | cerritos\n",
      "Processing Record 4 of Set 10 | farap\n",
      "Processing Record 5 of Set 10 | halifax\n",
      "Processing Record 6 of Set 10 | sisimiut\n",
      "Processing Record 7 of Set 10 | viedma\n",
      "Processing Record 8 of Set 10 | katha\n",
      "City not found. Skipping...\n",
      "Processing Record 9 of Set 10 | staryy nadym\n",
      "Processing Record 10 of Set 10 | pratapgarh\n",
      "Processing Record 11 of Set 10 | bereda\n",
      "Processing Record 12 of Set 10 | barra do corda\n",
      "Processing Record 13 of Set 10 | goundam\n",
      "Processing Record 14 of Set 10 | kidal\n",
      "Processing Record 15 of Set 10 | gamba\n",
      "Processing Record 16 of Set 10 | rawannawi\n",
      "City not found. Skipping...\n",
      "Processing Record 17 of Set 10 | tilichiki\n",
      "Processing Record 18 of Set 10 | olinda\n",
      "Processing Record 19 of Set 10 | queimadas\n",
      "Processing Record 20 of Set 10 | zhezkazgan\n",
      "Processing Record 21 of Set 10 | juazeiro do norte\n",
      "Processing Record 22 of Set 10 | methoni\n",
      "Processing Record 23 of Set 10 | cabo san lucas\n",
      "Processing Record 24 of Set 10 | bontang\n",
      "Processing Record 25 of Set 10 | timbiras\n",
      "Processing Record 26 of Set 10 | mendoza\n",
      "Processing Record 27 of Set 10 | parkes\n",
      "Processing Record 28 of Set 10 | korhogo\n",
      "Processing Record 29 of Set 10 | port blair\n",
      "Processing Record 30 of Set 10 | caxito\n",
      "Processing Record 31 of Set 10 | toliary\n",
      "City not found. Skipping...\n",
      "Processing Record 32 of Set 10 | tondi\n",
      "Processing Record 33 of Set 10 | lasa\n",
      "Processing Record 34 of Set 10 | belaya gora\n",
      "Processing Record 35 of Set 10 | dalvik\n",
      "Processing Record 36 of Set 10 | achisay\n",
      "City not found. Skipping...\n",
      "Processing Record 37 of Set 10 | pangody\n",
      "Processing Record 38 of Set 10 | northam\n",
      "Processing Record 39 of Set 10 | baijiantan\n",
      "Processing Record 40 of Set 10 | quthing\n",
      "Processing Record 41 of Set 10 | mecca\n",
      "Processing Record 42 of Set 10 | carutapera\n",
      "Processing Record 43 of Set 10 | jiexiu\n",
      "Processing Record 44 of Set 10 | kizema\n",
      "Processing Record 45 of Set 10 | inuvik\n",
      "Processing Record 46 of Set 10 | longlac\n",
      "City not found. Skipping...\n",
      "Processing Record 47 of Set 10 | ugoofaaru\n",
      "Processing Record 48 of Set 10 | trincomalee\n",
      "Processing Record 49 of Set 10 | santa rosalia\n",
      "Processing Record 0 of Set 11 | ballina\n",
      "Processing Record 1 of Set 11 | creel\n",
      "Processing Record 2 of Set 11 | erenhot\n",
      "Processing Record 3 of Set 11 | sorkjosen\n",
      "Processing Record 4 of Set 11 | tigre\n",
      "Processing Record 5 of Set 11 | kadyy\n",
      "Processing Record 6 of Set 11 | mancora\n",
      "Processing Record 7 of Set 11 | daura\n",
      "Processing Record 8 of Set 11 | iskilip\n",
      "Processing Record 9 of Set 11 | port hedland\n",
      "Processing Record 10 of Set 11 | chagda\n",
      "City not found. Skipping...\n",
      "Processing Record 11 of Set 11 | pangai\n",
      "Processing Record 12 of Set 11 | akyab\n",
      "Processing Record 13 of Set 11 | grand gaube\n",
      "Processing Record 14 of Set 11 | bocos\n",
      "Processing Record 15 of Set 11 | mapiripan\n",
      "Processing Record 16 of Set 11 | acajutla\n",
      "Processing Record 17 of Set 11 | vila velha\n",
      "Processing Record 18 of Set 11 | denpasar\n",
      "Processing Record 19 of Set 11 | henties bay\n",
      "Processing Record 20 of Set 11 | kotma\n",
      "Processing Record 21 of Set 11 | noyabrsk\n",
      "Processing Record 22 of Set 11 | bukama\n",
      "Processing Record 23 of Set 11 | radstadt\n",
      "Processing Record 24 of Set 11 | dekar\n",
      "Processing Record 25 of Set 11 | taksimo\n",
      "Processing Record 26 of Set 11 | skogn\n",
      "Processing Record 27 of Set 11 | asau\n",
      "Processing Record 28 of Set 11 | at-bashi\n",
      "Processing Record 29 of Set 11 | loa janan\n",
      "Processing Record 30 of Set 11 | hearst\n",
      "Processing Record 31 of Set 11 | praia\n",
      "Processing Record 32 of Set 11 | raudeberg\n",
      "Processing Record 33 of Set 11 | vestbygda\n",
      "City not found. Skipping...\n",
      "Processing Record 34 of Set 11 | ust-nera\n",
      "Processing Record 35 of Set 11 | aswan\n",
      "Processing Record 36 of Set 11 | hambantota\n",
      "Processing Record 37 of Set 11 | halalo\n",
      "City not found. Skipping...\n",
      "Processing Record 38 of Set 11 | turbat\n",
      "Processing Record 39 of Set 11 | wenatchee\n",
      "Processing Record 40 of Set 11 | la cruz\n",
      "Processing Record 41 of Set 11 | yamethin\n",
      "Processing Record 42 of Set 11 | charters towers\n",
      "Processing Record 43 of Set 11 | kutum\n",
      "Processing Record 44 of Set 11 | nieuw amsterdam\n",
      "Processing Record 45 of Set 11 | satitoa\n",
      "City not found. Skipping...\n",
      "Processing Record 46 of Set 11 | palana\n",
      "Processing Record 47 of Set 11 | general salgado\n",
      "Processing Record 48 of Set 11 | abalak\n",
      "Processing Record 49 of Set 11 | berkovica\n",
      "Processing Record 0 of Set 12 | grand centre\n",
      "City not found. Skipping...\n",
      "Processing Record 1 of Set 12 | lompoc\n",
      "Processing Record 2 of Set 12 | eldorado\n",
      "Processing Record 3 of Set 12 | veraval\n",
      "Processing Record 4 of Set 12 | gorno-chuyskiy\n",
      "City not found. Skipping...\n",
      "Processing Record 5 of Set 12 | alofi\n",
      "Processing Record 6 of Set 12 | varnamo\n",
      "Processing Record 7 of Set 12 | avenal\n"
     ]
    },
    {
     "name": "stdout",
     "output_type": "stream",
     "text": [
      "Processing Record 8 of Set 12 | nanortalik\n",
      "Processing Record 9 of Set 12 | ouallam\n",
      "Processing Record 10 of Set 12 | paidha\n",
      "Processing Record 11 of Set 12 | christchurch\n",
      "Processing Record 12 of Set 12 | helong\n",
      "Processing Record 13 of Set 12 | tuy hoa\n",
      "Processing Record 14 of Set 12 | chaumont\n",
      "Processing Record 15 of Set 12 | carberry\n",
      "Processing Record 16 of Set 12 | harper\n",
      "Processing Record 17 of Set 12 | chadiza\n",
      "Processing Record 18 of Set 12 | chokwe\n",
      "Processing Record 19 of Set 12 | la ronge\n",
      "Processing Record 20 of Set 12 | tecoanapa\n",
      "Processing Record 21 of Set 12 | richards bay\n",
      "Processing Record 22 of Set 12 | bindura\n",
      "Processing Record 23 of Set 12 | funchal\n",
      "Processing Record 24 of Set 12 | san quintin\n",
      "Processing Record 25 of Set 12 | grong\n",
      "Processing Record 26 of Set 12 | sohag\n",
      "Processing Record 27 of Set 12 | khuzdar\n",
      "Processing Record 28 of Set 12 | meyungs\n",
      "City not found. Skipping...\n",
      "Processing Record 29 of Set 12 | shingu\n",
      "Processing Record 30 of Set 12 | ambon\n",
      "Processing Record 31 of Set 12 | santa eulalia del rio\n",
      "City not found. Skipping...\n",
      "Processing Record 32 of Set 12 | ukiah\n",
      "Processing Record 33 of Set 12 | tripoli\n",
      "Processing Record 34 of Set 12 | arinos\n",
      "Processing Record 35 of Set 12 | aitape\n",
      "Processing Record 36 of Set 12 | sai buri\n",
      "Processing Record 37 of Set 12 | tempio pausania\n",
      "Processing Record 38 of Set 12 | dolbeau\n",
      "City not found. Skipping...\n",
      "Processing Record 39 of Set 12 | morros\n",
      "Processing Record 40 of Set 12 | kolokani\n",
      "Processing Record 41 of Set 12 | yashkul\n",
      "Processing Record 42 of Set 12 | bari sadri\n",
      "Processing Record 43 of Set 12 | macheng\n",
      "Processing Record 44 of Set 12 | dundee\n",
      "Processing Record 45 of Set 12 | sur\n",
      "Processing Record 46 of Set 12 | chara\n",
      "Processing Record 47 of Set 12 | mayor pablo lagerenza\n",
      "Processing Record 48 of Set 12 | ban nahin\n",
      "Processing Record 49 of Set 12 | lebanon\n",
      "Processing Record 0 of Set 13 | ranong\n",
      "Processing Record 1 of Set 13 | necochea\n",
      "Processing Record 2 of Set 13 | progreso\n",
      "Processing Record 3 of Set 13 | khromtau\n",
      "Processing Record 4 of Set 13 | am timan\n",
      "Processing Record 5 of Set 13 | riohacha\n",
      "Processing Record 6 of Set 13 | cadereyta\n",
      "Processing Record 7 of Set 13 | anloga\n",
      "Processing Record 8 of Set 13 | grootfontein\n",
      "Processing Record 9 of Set 13 | vanavara\n",
      "Processing Record 10 of Set 13 | llanes\n",
      "Processing Record 11 of Set 13 | maua\n",
      "Processing Record 12 of Set 13 | pasni\n",
      "Processing Record 13 of Set 13 | warri\n",
      "Processing Record 14 of Set 13 | lykhivka\n",
      "Processing Record 15 of Set 13 | waipawa\n",
      "Processing Record 16 of Set 13 | corn island\n",
      "Processing Record 17 of Set 13 | nardaran\n",
      "Processing Record 18 of Set 13 | fairbanks\n",
      "Processing Record 19 of Set 13 | eyl\n",
      "Processing Record 20 of Set 13 | salalah\n",
      "Processing Record 21 of Set 13 | kabin buri\n",
      "Processing Record 22 of Set 13 | mizdah\n",
      "Processing Record 23 of Set 13 | havelock\n",
      "Processing Record 24 of Set 13 | dhrol\n",
      "Processing Record 25 of Set 13 | dwarka\n",
      "Processing Record 26 of Set 13 | skalistyy\n",
      "City not found. Skipping...\n",
      "Processing Record 27 of Set 13 | singaraja\n",
      "Processing Record 28 of Set 13 | korsor\n",
      "Processing Record 29 of Set 13 | pisco\n",
      "Processing Record 30 of Set 13 | batemans bay\n",
      "Processing Record 31 of Set 13 | cebu\n",
      "Processing Record 32 of Set 13 | tenenkou\n",
      "-----------------------------\n",
      "Data Retrieval Complete      \n",
      "-----------------------------\n"
     ]
    }
   ],
   "source": [
    "# Set the API base URL\n",
    "url = \"http://api.openweathermap.org/data/2.5/weather?\"\n",
    "units = \"metric\"\n",
    "\n",
    "# Define an empty list to fetch the weather data for each city\n",
    "city_data = []\n",
    "\n",
    "# Print to logger\n",
    "print(\"Beginning Data Retrieval     \")\n",
    "print(\"-----------------------------\")\n",
    "\n",
    "# Create counters\n",
    "record_count = 1\n",
    "set_count = 1\n",
    "\n",
    "# Loop through all the cities in our list to fetch weather data\n",
    "for i, city in enumerate(cities):\n",
    "        \n",
    "    # Group cities in sets of 50 for logging purposes\n",
    "    if (i % 50 == 0 and i >= 50):\n",
    "        set_count += 1\n",
    "        record_count = 0\n",
    "\n",
    "    # Create endpoint URL with each city\n",
    "    city_url = url + \"appid=\" + weather_api_key + \"&units=\" + units + \"&q=\" + city\n",
    "    \n",
    "    # Log the url, record, and set numbers\n",
    "    print(\"Processing Record %s of Set %s | %s\" % (record_count, set_count, city))\n",
    "\n",
    "    # Add 1 to the record count\n",
    "    record_count += 1\n",
    "\n",
    "    # Run an API request for each of the cities\n",
    "    try:\n",
    "        # Parse the JSON and retrieve data\n",
    "        city_weather = requests.get(city_url).json()\n",
    "        \n",
    "\n",
    "        # Parse out latitude, longitude, max temp, humidity, cloudiness, wind speed, country, and date\n",
    "        city_lat = city_weather['coord']['lat']\n",
    "        city_lng = city_weather['coord']['lon']\n",
    "        city_max_temp = city_weather['main']['temp']\n",
    "        city_humidity = city_weather['main']['humidity']\n",
    "        city_clouds = city_weather['clouds']['all']\n",
    "        city_wind = city_weather['wind']['speed']\n",
    "        city_country = city_weather['sys']['country']\n",
    "        city_date = city_weather['dt']\n",
    "\n",
    "        # Append the City information into city_data list\n",
    "        city_data.append({\"City\": city, \n",
    "                          \"Lat\": city_lat, \n",
    "                          \"Lng\": city_lng, \n",
    "                          \"Max Temp\": city_max_temp,\n",
    "                          \"Humidity\": city_humidity,\n",
    "                          \"Cloudiness\": city_clouds,\n",
    "                          \"Wind Speed\": city_wind,\n",
    "                          \"Country\": city_country,\n",
    "                          \"Date\": city_date})\n",
    "\n",
    "    # If an error is experienced, skip the city\n",
    "    except:\n",
    "        print(\"City not found. Skipping...\")\n",
    "        pass\n",
    "              \n",
    "# Indicate that Data Loading is complete \n",
    "print(\"-----------------------------\")\n",
    "print(\"Data Retrieval Complete      \")\n",
    "print(\"-----------------------------\")"
   ]
  },
  {
   "cell_type": "code",
   "execution_count": 4,
   "metadata": {},
   "outputs": [
    {
     "data": {
      "text/plain": [
       "City          572\n",
       "Lat           572\n",
       "Lng           572\n",
       "Max Temp      572\n",
       "Humidity      572\n",
       "Cloudiness    572\n",
       "Wind Speed    572\n",
       "Country       572\n",
       "Date          572\n",
       "dtype: int64"
      ]
     },
     "execution_count": 4,
     "metadata": {},
     "output_type": "execute_result"
    }
   ],
   "source": [
    "# Convert the cities weather data into a Pandas DataFrame\n",
    "city_data_df = pd.DataFrame(city_data)\n",
    "\n",
    "# Show Record Count\n",
    "city_data_df.count()"
   ]
  },
  {
   "cell_type": "code",
   "execution_count": 5,
   "metadata": {},
   "outputs": [
    {
     "data": {
      "text/html": [
       "<div>\n",
       "<style scoped>\n",
       "    .dataframe tbody tr th:only-of-type {\n",
       "        vertical-align: middle;\n",
       "    }\n",
       "\n",
       "    .dataframe tbody tr th {\n",
       "        vertical-align: top;\n",
       "    }\n",
       "\n",
       "    .dataframe thead th {\n",
       "        text-align: right;\n",
       "    }\n",
       "</style>\n",
       "<table border=\"1\" class=\"dataframe\">\n",
       "  <thead>\n",
       "    <tr style=\"text-align: right;\">\n",
       "      <th></th>\n",
       "      <th>City</th>\n",
       "      <th>Lat</th>\n",
       "      <th>Lng</th>\n",
       "      <th>Max Temp</th>\n",
       "      <th>Humidity</th>\n",
       "      <th>Cloudiness</th>\n",
       "      <th>Wind Speed</th>\n",
       "      <th>Country</th>\n",
       "      <th>Date</th>\n",
       "    </tr>\n",
       "  </thead>\n",
       "  <tbody>\n",
       "    <tr>\n",
       "      <th>0</th>\n",
       "      <td>college</td>\n",
       "      <td>64.8569</td>\n",
       "      <td>-147.8028</td>\n",
       "      <td>-13.91</td>\n",
       "      <td>78</td>\n",
       "      <td>75</td>\n",
       "      <td>1.54</td>\n",
       "      <td>US</td>\n",
       "      <td>1673916260</td>\n",
       "    </tr>\n",
       "    <tr>\n",
       "      <th>1</th>\n",
       "      <td>chokurdakh</td>\n",
       "      <td>70.6333</td>\n",
       "      <td>147.9167</td>\n",
       "      <td>-32.80</td>\n",
       "      <td>97</td>\n",
       "      <td>79</td>\n",
       "      <td>4.57</td>\n",
       "      <td>RU</td>\n",
       "      <td>1673916220</td>\n",
       "    </tr>\n",
       "    <tr>\n",
       "      <th>2</th>\n",
       "      <td>kasongo-lunda</td>\n",
       "      <td>-6.4667</td>\n",
       "      <td>16.8167</td>\n",
       "      <td>19.63</td>\n",
       "      <td>97</td>\n",
       "      <td>100</td>\n",
       "      <td>0.95</td>\n",
       "      <td>CD</td>\n",
       "      <td>1673916475</td>\n",
       "    </tr>\n",
       "    <tr>\n",
       "      <th>3</th>\n",
       "      <td>esperance</td>\n",
       "      <td>-33.8667</td>\n",
       "      <td>121.9000</td>\n",
       "      <td>16.96</td>\n",
       "      <td>56</td>\n",
       "      <td>93</td>\n",
       "      <td>6.77</td>\n",
       "      <td>AU</td>\n",
       "      <td>1673916240</td>\n",
       "    </tr>\n",
       "    <tr>\n",
       "      <th>4</th>\n",
       "      <td>tuktoyaktuk</td>\n",
       "      <td>69.4541</td>\n",
       "      <td>-133.0374</td>\n",
       "      <td>-23.00</td>\n",
       "      <td>77</td>\n",
       "      <td>75</td>\n",
       "      <td>2.06</td>\n",
       "      <td>CA</td>\n",
       "      <td>1673916382</td>\n",
       "    </tr>\n",
       "  </tbody>\n",
       "</table>\n",
       "</div>"
      ],
      "text/plain": [
       "            City      Lat       Lng  Max Temp  Humidity  Cloudiness  \\\n",
       "0        college  64.8569 -147.8028    -13.91        78          75   \n",
       "1     chokurdakh  70.6333  147.9167    -32.80        97          79   \n",
       "2  kasongo-lunda  -6.4667   16.8167     19.63        97         100   \n",
       "3      esperance -33.8667  121.9000     16.96        56          93   \n",
       "4    tuktoyaktuk  69.4541 -133.0374    -23.00        77          75   \n",
       "\n",
       "   Wind Speed Country        Date  \n",
       "0        1.54      US  1673916260  \n",
       "1        4.57      RU  1673916220  \n",
       "2        0.95      CD  1673916475  \n",
       "3        6.77      AU  1673916240  \n",
       "4        2.06      CA  1673916382  "
      ]
     },
     "execution_count": 5,
     "metadata": {},
     "output_type": "execute_result"
    }
   ],
   "source": [
    "# Display sample data\n",
    "city_data_df.head()"
   ]
  },
  {
   "cell_type": "code",
   "execution_count": 6,
   "metadata": {},
   "outputs": [],
   "source": [
    "# Export the City_Data into a csv\n",
    "city_data_df.to_csv(\"../output_data/cities.csv\", index_label=\"City_ID\")"
   ]
  },
  {
   "cell_type": "code",
   "execution_count": 7,
   "metadata": {},
   "outputs": [
    {
     "data": {
      "text/html": [
       "<div>\n",
       "<style scoped>\n",
       "    .dataframe tbody tr th:only-of-type {\n",
       "        vertical-align: middle;\n",
       "    }\n",
       "\n",
       "    .dataframe tbody tr th {\n",
       "        vertical-align: top;\n",
       "    }\n",
       "\n",
       "    .dataframe thead th {\n",
       "        text-align: right;\n",
       "    }\n",
       "</style>\n",
       "<table border=\"1\" class=\"dataframe\">\n",
       "  <thead>\n",
       "    <tr style=\"text-align: right;\">\n",
       "      <th></th>\n",
       "      <th>City</th>\n",
       "      <th>Lat</th>\n",
       "      <th>Lng</th>\n",
       "      <th>Max Temp</th>\n",
       "      <th>Humidity</th>\n",
       "      <th>Cloudiness</th>\n",
       "      <th>Wind Speed</th>\n",
       "      <th>Country</th>\n",
       "      <th>Date</th>\n",
       "    </tr>\n",
       "    <tr>\n",
       "      <th>City_ID</th>\n",
       "      <th></th>\n",
       "      <th></th>\n",
       "      <th></th>\n",
       "      <th></th>\n",
       "      <th></th>\n",
       "      <th></th>\n",
       "      <th></th>\n",
       "      <th></th>\n",
       "      <th></th>\n",
       "    </tr>\n",
       "  </thead>\n",
       "  <tbody>\n",
       "    <tr>\n",
       "      <th>0</th>\n",
       "      <td>college</td>\n",
       "      <td>64.8569</td>\n",
       "      <td>-147.8028</td>\n",
       "      <td>-13.91</td>\n",
       "      <td>78</td>\n",
       "      <td>75</td>\n",
       "      <td>1.54</td>\n",
       "      <td>US</td>\n",
       "      <td>1673916260</td>\n",
       "    </tr>\n",
       "    <tr>\n",
       "      <th>1</th>\n",
       "      <td>chokurdakh</td>\n",
       "      <td>70.6333</td>\n",
       "      <td>147.9167</td>\n",
       "      <td>-32.80</td>\n",
       "      <td>97</td>\n",
       "      <td>79</td>\n",
       "      <td>4.57</td>\n",
       "      <td>RU</td>\n",
       "      <td>1673916220</td>\n",
       "    </tr>\n",
       "    <tr>\n",
       "      <th>2</th>\n",
       "      <td>kasongo-lunda</td>\n",
       "      <td>-6.4667</td>\n",
       "      <td>16.8167</td>\n",
       "      <td>19.63</td>\n",
       "      <td>97</td>\n",
       "      <td>100</td>\n",
       "      <td>0.95</td>\n",
       "      <td>CD</td>\n",
       "      <td>1673916475</td>\n",
       "    </tr>\n",
       "    <tr>\n",
       "      <th>3</th>\n",
       "      <td>esperance</td>\n",
       "      <td>-33.8667</td>\n",
       "      <td>121.9000</td>\n",
       "      <td>16.96</td>\n",
       "      <td>56</td>\n",
       "      <td>93</td>\n",
       "      <td>6.77</td>\n",
       "      <td>AU</td>\n",
       "      <td>1673916240</td>\n",
       "    </tr>\n",
       "    <tr>\n",
       "      <th>4</th>\n",
       "      <td>tuktoyaktuk</td>\n",
       "      <td>69.4541</td>\n",
       "      <td>-133.0374</td>\n",
       "      <td>-23.00</td>\n",
       "      <td>77</td>\n",
       "      <td>75</td>\n",
       "      <td>2.06</td>\n",
       "      <td>CA</td>\n",
       "      <td>1673916382</td>\n",
       "    </tr>\n",
       "  </tbody>\n",
       "</table>\n",
       "</div>"
      ],
      "text/plain": [
       "                  City      Lat       Lng  Max Temp  Humidity  Cloudiness  \\\n",
       "City_ID                                                                     \n",
       "0              college  64.8569 -147.8028    -13.91        78          75   \n",
       "1           chokurdakh  70.6333  147.9167    -32.80        97          79   \n",
       "2        kasongo-lunda  -6.4667   16.8167     19.63        97         100   \n",
       "3            esperance -33.8667  121.9000     16.96        56          93   \n",
       "4          tuktoyaktuk  69.4541 -133.0374    -23.00        77          75   \n",
       "\n",
       "         Wind Speed Country        Date  \n",
       "City_ID                                  \n",
       "0              1.54      US  1673916260  \n",
       "1              4.57      RU  1673916220  \n",
       "2              0.95      CD  1673916475  \n",
       "3              6.77      AU  1673916240  \n",
       "4              2.06      CA  1673916382  "
      ]
     },
     "execution_count": 7,
     "metadata": {},
     "output_type": "execute_result"
    }
   ],
   "source": [
    "# Read saved data\n",
    "city_data_df = pd.read_csv(\"../output_data/cities.csv\", index_col=\"City_ID\")\n",
    "\n",
    "# Display sample data\n",
    "city_data_df.head()"
   ]
  },
  {
   "cell_type": "markdown",
   "metadata": {},
   "source": [
    "### Create the Scatter Plots Requested\n",
    "\n",
    "#### Latitude Vs. Temperature"
   ]
  },
  {
   "cell_type": "code",
   "execution_count": 8,
   "metadata": {
    "tags": []
   },
   "outputs": [
    {
     "data": {
      "image/png": "[encoded data removed]",
      "text/plain": [
       "<Figure size 432x288 with 1 Axes>"
      ]
     },
     "metadata": {
      "needs_background": "light"
     },
     "output_type": "display_data"
    },
    {
     "data": {
      "text/plain": [
       "<Figure size 432x288 with 0 Axes>"
      ]
     },
     "metadata": {},
     "output_type": "display_data"
    }
   ],
   "source": [
    "# Build scatter plot for latitude vs. temperature\n",
    "# YOUR CODE HERE\n",
    "x_values = city_data_df['Lat']\n",
    "y_values = city_data_df['Max Temp']\n",
    "plt.scatter(x_values,y_values, marker=\"o\", edgecolors=\"black\")\n",
    "plt.xlabel('Latitude')\n",
    "plt.ylabel('Max Temperature (C)')\n",
    "plt.title('City Latitude vs. Max Temperature (2023-01-15)')\n",
    "plt.grid(alpha=0.5)\n",
    "plt.show()\n",
    "\n",
    "# Incorporate the other graph properties\n",
    "\n",
    "# Save the figure\n",
    "plt.savefig(\"../output_data/Fig1.png\")"
   ]
  },
  {
   "cell_type": "markdown",
   "metadata": {},
   "source": [
    "#### Latitude Vs. Humidity"
   ]
  },
  {
   "cell_type": "code",
   "execution_count": 9,
   "metadata": {},
   "outputs": [
    {
     "data": {
      "image/png": "[encoded data removed]",
      "text/plain": [
       "<Figure size 432x288 with 1 Axes>"
      ]
     },
     "metadata": {
      "needs_background": "light"
     },
     "output_type": "display_data"
    },
    {
     "data": {
      "text/plain": [
       "<Figure size 432x288 with 0 Axes>"
      ]
     },
     "metadata": {},
     "output_type": "display_data"
    }
   ],
   "source": [
    "# Build the scatter plots for latitude vs. humidity\n",
    "# YOUR CODE HERE\n",
    "x_values = city_data_df['Lat']\n",
    "y_values = city_data_df['Humidity']\n",
    "plt.scatter(x_values,y_values, marker=\"o\", edgecolors=\"black\")\n",
    "plt.xlabel('Latitude')\n",
    "plt.ylabel('Humidity')\n",
    "plt.title('City Latitude vs. Humidity (2023-01-15)')\n",
    "plt.grid(alpha=0.5)\n",
    "plt.show()\n",
    "\n",
    "# Incorporate the other graph properties\n",
    "# YOUR CODE HERE\n",
    "\n",
    "# Save the figure\n",
    "plt.savefig(\"../output_data/Fig2.png\")"
   ]
  },
  {
   "cell_type": "markdown",
   "metadata": {},
   "source": [
    "#### Latitude Vs. Cloudiness"
   ]
  },
  {
   "cell_type": "code",
   "execution_count": 10,
   "metadata": {},
   "outputs": [
    {
     "data": {
      "image/png": "[encoded data removed]",
      "text/plain": [
       "<Figure size 432x288 with 1 Axes>"
      ]
     },
     "metadata": {
      "needs_background": "light"
     },
     "output_type": "display_data"
    },
    {
     "data": {
      "text/plain": [
       "<Figure size 432x288 with 0 Axes>"
      ]
     },
     "metadata": {},
     "output_type": "display_data"
    }
   ],
   "source": [
    "# Build the scatter plots for latitude vs. cloudiness\n",
    "# YOUR CODE HERE\n",
    "x_values = city_data_df['Lat']\n",
    "y_values = city_data_df['Cloudiness']\n",
    "plt.scatter(x_values,y_values, marker=\"o\", edgecolors=\"black\")\n",
    "plt.xlabel('Latitude')\n",
    "plt.ylabel('Cloudiness')\n",
    "plt.title('City Latitude vs. Cloudiness (2023-01-15)')\n",
    "plt.grid(alpha=0.5)\n",
    "plt.show()\n",
    "\n",
    "# Incorporate the other graph properties\n",
    "# YOUR CODE HERE\n",
    "\n",
    "# Save the figure\n",
    "plt.savefig(\"../output_data/Fig3.png\")"
   ]
  },
  {
   "cell_type": "markdown",
   "metadata": {},
   "source": [
    "#### Latitude vs. Wind Speed Plot"
   ]
  },
  {
   "cell_type": "code",
   "execution_count": 11,
   "metadata": {},
   "outputs": [
    {
     "data": {
      "image/png": "[encoded data removed]",
      "text/plain": [
       "<Figure size 432x288 with 1 Axes>"
      ]
     },
     "metadata": {
      "needs_background": "light"
     },
     "output_type": "display_data"
    },
    {
     "data": {
      "text/plain": [
       "<Figure size 432x288 with 0 Axes>"
      ]
     },
     "metadata": {},
     "output_type": "display_data"
    }
   ],
   "source": [
    "# Build the scatter plots for latitude vs. wind speed\n",
    "# YOUR CODE HERE\n",
    "x_values = city_data_df['Lat']\n",
    "y_values = city_data_df['Wind Speed']\n",
    "plt.scatter(x_values,y_values, marker=\"o\", edgecolors=\"black\")\n",
    "plt.xlabel('Latitude')\n",
    "plt.ylabel('Wind Speed')\n",
    "plt.title('City Latitude vs. Wind Speed (2023-01-15)')\n",
    "plt.grid(alpha=0.5)\n",
    "plt.show()\n",
    "\n",
    "# Incorporate the other graph properties\n",
    "# YOUR CODE HERE\n",
    "\n",
    "# Save the figure\n",
    "plt.savefig(\"../output_data/Fig4.png\")"
   ]
  },
  {
   "cell_type": "markdown",
   "metadata": {},
   "source": [
    "---\n",
    "\n",
    "## Requirement 2: Compute Linear Regression for Each Relationship\n"
   ]
  },
  {
   "cell_type": "code",
   "execution_count": 12,
   "metadata": {},
   "outputs": [],
   "source": [
    "# Define a function to create Linear Regression plots\n",
    "def linearRegression(x, y):\n",
    "    (slope, intercept, rvalue, pvalue, stderr) = linregress(x, y)\n",
    "    regress_values = x * slope + intercept\n",
    "    line_eq = \"y = \" + str(round(slope,2)) + \"x + \" + str(round(intercept,2))\n",
    "    print(f\"The r-squared value is {rvalue**2}.\")\n",
    "    plt.scatter(x, y)\n",
    "    plt.plot(x,regress_values, \"r-\")\n",
    "    return line_eq"
   ]
  },
  {
   "cell_type": "code",
   "execution_count": 13,
   "metadata": {},
   "outputs": [
    {
     "data": {
      "text/html": [
       "<div>\n",
       "<style scoped>\n",
       "    .dataframe tbody tr th:only-of-type {\n",
       "        vertical-align: middle;\n",
       "    }\n",
       "\n",
       "    .dataframe tbody tr th {\n",
       "        vertical-align: top;\n",
       "    }\n",
       "\n",
       "    .dataframe thead th {\n",
       "        text-align: right;\n",
       "    }\n",
       "</style>\n",
       "<table border=\"1\" class=\"dataframe\">\n",
       "  <thead>\n",
       "    <tr style=\"text-align: right;\">\n",
       "      <th></th>\n",
       "      <th>City</th>\n",
       "      <th>Lat</th>\n",
       "      <th>Lng</th>\n",
       "      <th>Max Temp</th>\n",
       "      <th>Humidity</th>\n",
       "      <th>Cloudiness</th>\n",
       "      <th>Wind Speed</th>\n",
       "      <th>Country</th>\n",
       "      <th>Date</th>\n",
       "    </tr>\n",
       "    <tr>\n",
       "      <th>City_ID</th>\n",
       "      <th></th>\n",
       "      <th></th>\n",
       "      <th></th>\n",
       "      <th></th>\n",
       "      <th></th>\n",
       "      <th></th>\n",
       "      <th></th>\n",
       "      <th></th>\n",
       "      <th></th>\n",
       "    </tr>\n",
       "  </thead>\n",
       "  <tbody>\n",
       "    <tr>\n",
       "      <th>0</th>\n",
       "      <td>college</td>\n",
       "      <td>64.8569</td>\n",
       "      <td>-147.8028</td>\n",
       "      <td>-13.91</td>\n",
       "      <td>78</td>\n",
       "      <td>75</td>\n",
       "      <td>1.54</td>\n",
       "      <td>US</td>\n",
       "      <td>1673916260</td>\n",
       "    </tr>\n",
       "    <tr>\n",
       "      <th>1</th>\n",
       "      <td>chokurdakh</td>\n",
       "      <td>70.6333</td>\n",
       "      <td>147.9167</td>\n",
       "      <td>-32.80</td>\n",
       "      <td>97</td>\n",
       "      <td>79</td>\n",
       "      <td>4.57</td>\n",
       "      <td>RU</td>\n",
       "      <td>1673916220</td>\n",
       "    </tr>\n",
       "    <tr>\n",
       "      <th>4</th>\n",
       "      <td>tuktoyaktuk</td>\n",
       "      <td>69.4541</td>\n",
       "      <td>-133.0374</td>\n",
       "      <td>-23.00</td>\n",
       "      <td>77</td>\n",
       "      <td>75</td>\n",
       "      <td>2.06</td>\n",
       "      <td>CA</td>\n",
       "      <td>1673916382</td>\n",
       "    </tr>\n",
       "    <tr>\n",
       "      <th>5</th>\n",
       "      <td>hilo</td>\n",
       "      <td>19.7297</td>\n",
       "      <td>-155.0900</td>\n",
       "      <td>26.72</td>\n",
       "      <td>71</td>\n",
       "      <td>0</td>\n",
       "      <td>7.20</td>\n",
       "      <td>US</td>\n",
       "      <td>1673916164</td>\n",
       "    </tr>\n",
       "    <tr>\n",
       "      <th>6</th>\n",
       "      <td>komsomolskiy</td>\n",
       "      <td>40.4272</td>\n",
       "      <td>71.7189</td>\n",
       "      <td>-11.60</td>\n",
       "      <td>79</td>\n",
       "      <td>3</td>\n",
       "      <td>0.00</td>\n",
       "      <td>UZ</td>\n",
       "      <td>1673916476</td>\n",
       "    </tr>\n",
       "  </tbody>\n",
       "</table>\n",
       "</div>"
      ],
      "text/plain": [
       "                 City      Lat       Lng  Max Temp  Humidity  Cloudiness  \\\n",
       "City_ID                                                                    \n",
       "0             college  64.8569 -147.8028    -13.91        78          75   \n",
       "1          chokurdakh  70.6333  147.9167    -32.80        97          79   \n",
       "4         tuktoyaktuk  69.4541 -133.0374    -23.00        77          75   \n",
       "5                hilo  19.7297 -155.0900     26.72        71           0   \n",
       "6        komsomolskiy  40.4272   71.7189    -11.60        79           3   \n",
       "\n",
       "         Wind Speed Country        Date  \n",
       "City_ID                                  \n",
       "0              1.54      US  1673916260  \n",
       "1              4.57      RU  1673916220  \n",
       "4              2.06      CA  1673916382  \n",
       "5              7.20      US  1673916164  \n",
       "6              0.00      UZ  1673916476  "
      ]
     },
     "execution_count": 13,
     "metadata": {},
     "output_type": "execute_result"
    }
   ],
   "source": [
    "# Create a DataFrame with the Northern Hemisphere data (Latitude >= 0)\n",
    "n_hem = city_data_df.loc[city_data_df[\"Lat\"] >= 0]\n",
    "\n",
    "# Display sample data\n",
    "n_hem.head()"
   ]
  },
  {
   "cell_type": "code",
   "execution_count": 14,
   "metadata": {},
   "outputs": [
    {
     "data": {
      "text/html": [
       "<div>\n",
       "<style scoped>\n",
       "    .dataframe tbody tr th:only-of-type {\n",
       "        vertical-align: middle;\n",
       "    }\n",
       "\n",
       "    .dataframe tbody tr th {\n",
       "        vertical-align: top;\n",
       "    }\n",
       "\n",
       "    .dataframe thead th {\n",
       "        text-align: right;\n",
       "    }\n",
       "</style>\n",
       "<table border=\"1\" class=\"dataframe\">\n",
       "  <thead>\n",
       "    <tr style=\"text-align: right;\">\n",
       "      <th></th>\n",
       "      <th>City</th>\n",
       "      <th>Lat</th>\n",
       "      <th>Lng</th>\n",
       "      <th>Max Temp</th>\n",
       "      <th>Humidity</th>\n",
       "      <th>Cloudiness</th>\n",
       "      <th>Wind Speed</th>\n",
       "      <th>Country</th>\n",
       "      <th>Date</th>\n",
       "    </tr>\n",
       "    <tr>\n",
       "      <th>City_ID</th>\n",
       "      <th></th>\n",
       "      <th></th>\n",
       "      <th></th>\n",
       "      <th></th>\n",
       "      <th></th>\n",
       "      <th></th>\n",
       "      <th></th>\n",
       "      <th></th>\n",
       "      <th></th>\n",
       "    </tr>\n",
       "  </thead>\n",
       "  <tbody>\n",
       "    <tr>\n",
       "      <th>2</th>\n",
       "      <td>kasongo-lunda</td>\n",
       "      <td>-6.4667</td>\n",
       "      <td>16.8167</td>\n",
       "      <td>19.63</td>\n",
       "      <td>97</td>\n",
       "      <td>100</td>\n",
       "      <td>0.95</td>\n",
       "      <td>CD</td>\n",
       "      <td>1673916475</td>\n",
       "    </tr>\n",
       "    <tr>\n",
       "      <th>3</th>\n",
       "      <td>esperance</td>\n",
       "      <td>-33.8667</td>\n",
       "      <td>121.9000</td>\n",
       "      <td>16.96</td>\n",
       "      <td>56</td>\n",
       "      <td>93</td>\n",
       "      <td>6.77</td>\n",
       "      <td>AU</td>\n",
       "      <td>1673916240</td>\n",
       "    </tr>\n",
       "    <tr>\n",
       "      <th>7</th>\n",
       "      <td>puerto ayora</td>\n",
       "      <td>-0.7393</td>\n",
       "      <td>-90.3518</td>\n",
       "      <td>24.19</td>\n",
       "      <td>94</td>\n",
       "      <td>56</td>\n",
       "      <td>1.34</td>\n",
       "      <td>EC</td>\n",
       "      <td>1673916244</td>\n",
       "    </tr>\n",
       "    <tr>\n",
       "      <th>9</th>\n",
       "      <td>castro</td>\n",
       "      <td>-24.7911</td>\n",
       "      <td>-50.0119</td>\n",
       "      <td>19.13</td>\n",
       "      <td>90</td>\n",
       "      <td>100</td>\n",
       "      <td>0.26</td>\n",
       "      <td>BR</td>\n",
       "      <td>1673916418</td>\n",
       "    </tr>\n",
       "    <tr>\n",
       "      <th>12</th>\n",
       "      <td>bluff</td>\n",
       "      <td>-46.6000</td>\n",
       "      <td>168.3333</td>\n",
       "      <td>15.82</td>\n",
       "      <td>74</td>\n",
       "      <td>74</td>\n",
       "      <td>3.59</td>\n",
       "      <td>NZ</td>\n",
       "      <td>1673916271</td>\n",
       "    </tr>\n",
       "  </tbody>\n",
       "</table>\n",
       "</div>"
      ],
      "text/plain": [
       "                  City      Lat       Lng  Max Temp  Humidity  Cloudiness  \\\n",
       "City_ID                                                                     \n",
       "2        kasongo-lunda  -6.4667   16.8167     19.63        97         100   \n",
       "3            esperance -33.8667  121.9000     16.96        56          93   \n",
       "7         puerto ayora  -0.7393  -90.3518     24.19        94          56   \n",
       "9               castro -24.7911  -50.0119     19.13        90         100   \n",
       "12               bluff -46.6000  168.3333     15.82        74          74   \n",
       "\n",
       "         Wind Speed Country        Date  \n",
       "City_ID                                  \n",
       "2              0.95      CD  1673916475  \n",
       "3              6.77      AU  1673916240  \n",
       "7              1.34      EC  1673916244  \n",
       "9              0.26      BR  1673916418  \n",
       "12             3.59      NZ  1673916271  "
      ]
     },
     "execution_count": 14,
     "metadata": {},
     "output_type": "execute_result"
    }
   ],
   "source": [
    "# Create a DataFrame with the Southern Hemisphere data (Latitude < 0)\n",
    "s_hem = city_data_df.loc[city_data_df[\"Lat\"] < 0]\n",
    "# Display sample data\n",
    "s_hem.head()"
   ]
  },
  {
   "cell_type": "markdown",
   "metadata": {},
   "source": [
    "###  Temperature vs. Latitude Linear Regression Plot"
   ]
  },
  {
   "cell_type": "code",
   "execution_count": 15,
   "metadata": {},
   "outputs": [
    {
     "name": "stdout",
     "output_type": "stream",
     "text": [
      "The r-squared value is 0.7044556117138261.\n"
     ]
    },
    {
     "data": {
      "image/png": "[encoded data removed]",
      "text/plain": [
       "<Figure size 432x288 with 1 Axes>"
      ]
     },
     "metadata": {
      "needs_background": "light"
     },
     "output_type": "display_data"
    }
   ],
   "source": [
    "# Linear regression on Northern Hemisphere\n",
    "#x_values, y_values), annotate_loc, title, x_label, y_label)\n",
    "northtemp = linearRegression(y=n_hem[\"Max Temp\"], x=n_hem[\"Lat\"])\n",
    "plt.title(\"Northern Hemisphere vs Max Temperature\")\n",
    "plt.xlabel('Latitude')\n",
    "plt.ylabel('Max Temp')\n",
    "plt.annotate(northtemp, (0,-40), fontsize=15,color=\"red\")\n",
    "plt.show()"
   ]
  },
  {
   "cell_type": "code",
   "execution_count": 24,
   "metadata": {},
   "outputs": [
    {
     "name": "stdout",
     "output_type": "stream",
     "text": [
      "The r-squared value is 0.06913462576168888.\n"
     ]
    },
    {
     "data": {
      "image/png": "[encoded data removed]",
      "text/plain": [
       "<Figure size 432x288 with 1 Axes>"
      ]
     },
     "metadata": {
      "needs_background": "light"
     },
     "output_type": "display_data"
    }
   ],
   "source": [
    "# Linear regression on Southern Hemisphere\n",
    "southtemp = linearRegression(y=s_hem[\"Max Temp\"], x=s_hem[\"Lat\"])\n",
    "plt.title(\"Southern Hemisphere vs Max Temperature\")\n",
    "plt.xlabel('Latitude')\n",
    "plt.ylabel('Max Temp')\n",
    "plt.annotate(southtemp, (-55,31), fontsize=15,color=\"red\")\n",
    "plt.show()"
   ]
  },
  {
   "cell_type": "markdown",
   "metadata": {},
   "source": [
    "**Discussion about the linear relationship:**\n",
    "#### There is a strong negative correlation (r^2=-0.70) between max temperature and latitude in the northern hemisphere, meaning as latitude increases, the temperature decreases. Interestingly, the relationship is not as strong in the southern hemisphere (r^2=0.07), but there is a slight positive correlation, meaning that as latitude increases, so does the max temperature. These relationships seem to indicate that as you approach 0 for latitude, you near your max temperature, but as you move away from 0 in either direction for latitude, the max temperature decreases.  "
   ]
  },
  {
   "cell_type": "markdown",
   "metadata": {},
   "source": [
    "### Humidity vs. Latitude Linear Regression Plot"
   ]
  },
  {
   "cell_type": "code",
   "execution_count": 17,
   "metadata": {},
   "outputs": [
    {
     "name": "stdout",
     "output_type": "stream",
     "text": [
      "The r-squared value is 0.1659217454580462.\n"
     ]
    },
    {
     "data": {
      "image/png": "[encoded data removed]",
      "text/plain": [
       "<Figure size 432x288 with 1 Axes>"
      ]
     },
     "metadata": {
      "needs_background": "light"
     },
     "output_type": "display_data"
    }
   ],
   "source": [
    "# Northern Hemisphere\n",
    "northhum = linearRegression(y=n_hem[\"Humidity\"], x=n_hem[\"Lat\"])\n",
    "plt.title(\"Northern Hemisphere vs Humidity\")\n",
    "plt.xlabel('Latitude')\n",
    "plt.ylabel('Humidity')\n",
    "plt.annotate(northhum, (47,40), fontsize=15,color=\"red\")\n",
    "plt.show()"
   ]
  },
  {
   "cell_type": "code",
   "execution_count": 18,
   "metadata": {},
   "outputs": [
    {
     "name": "stdout",
     "output_type": "stream",
     "text": [
      "The r-squared value is 0.22130050876512733.\n"
     ]
    },
    {
     "data": {
      "image/png": "[encoded data removed]",
      "text/plain": [
       "<Figure size 432x288 with 1 Axes>"
      ]
     },
     "metadata": {
      "needs_background": "light"
     },
     "output_type": "display_data"
    }
   ],
   "source": [
    "# Southern Hemisphere\n",
    "southhum = linearRegression(y=s_hem[\"Humidity\"], x=s_hem[\"Lat\"])\n",
    "plt.title(\"Southern Hemisphere vs Humidity\")\n",
    "plt.xlabel('Latitude')\n",
    "plt.ylabel('Humidity')\n",
    "plt.annotate(southhum, (-22,32), fontsize=15,color=\"red\")\n",
    "plt.show()"
   ]
  },
  {
   "cell_type": "markdown",
   "metadata": {},
   "source": [
    "**Discussion about the linear relationship:** \n",
    "#### There is a small positive correlation (r^2=0.17) between latitude and relative humidity in the northern hemisphere, meaning as latitude increases, the humidity also increases. The relationship appears to be similar in the southern hemisphere (r^2=0.22), there is still a small positive correlation, meaning that as latitude increases, so does the relative humidity. Both of these correlations are small, indicating that latitude likely does not play a large role in overall relative humidity for the cities sampled."
   ]
  },
  {
   "cell_type": "markdown",
   "metadata": {},
   "source": [
    "### Cloudiness vs. Latitude Linear Regression Plot"
   ]
  },
  {
   "cell_type": "code",
   "execution_count": 25,
   "metadata": {},
   "outputs": [
    {
     "name": "stdout",
     "output_type": "stream",
     "text": [
      "The r-squared value is 0.09119091334258526.\n"
     ]
    },
    {
     "data": {
      "image/png": "[encoded data removed]",
      "text/plain": [
       "<Figure size 432x288 with 1 Axes>"
      ]
     },
     "metadata": {
      "needs_background": "light"
     },
     "output_type": "display_data"
    }
   ],
   "source": [
    "# Northern Hemisphere\n",
    "northcloud = linearRegression(y=n_hem[\"Cloudiness\"], x=n_hem[\"Lat\"])\n",
    "plt.title(\"Northern Hemisphere vs Cloudiness\")\n",
    "plt.xlabel('Latitude')\n",
    "plt.ylabel('Cloudiness')\n",
    "plt.annotate(northcloud, (46,48), fontsize=15,color=\"red\")\n",
    "plt.show()"
   ]
  },
  {
   "cell_type": "code",
   "execution_count": 26,
   "metadata": {},
   "outputs": [
    {
     "name": "stdout",
     "output_type": "stream",
     "text": [
      "The r-squared value is 0.13001724984259533.\n"
     ]
    },
    {
     "data": {
      "image/png": "[encoded data removed]",
      "text/plain": [
       "<Figure size 432x288 with 1 Axes>"
      ]
     },
     "metadata": {
      "needs_background": "light"
     },
     "output_type": "display_data"
    }
   ],
   "source": [
    "# Southern Hemisphere\n",
    "southcloud = linearRegression(y=s_hem[\"Cloudiness\"], x=s_hem[\"Lat\"])\n",
    "plt.title(\"Southern Hemisphere vs Cloudiness\")\n",
    "plt.xlabel('Latitude')\n",
    "plt.ylabel('Cloudiness')\n",
    "plt.annotate(southcloud, (-56,80), fontsize=15,color=\"red\")\n",
    "plt.show()"
   ]
  },
  {
   "cell_type": "markdown",
   "metadata": {},
   "source": [
    "**Discussion about the linear relationship:**\n",
    "#### There is a small positive correlation (r^2=0.09) between latitude and cloudiness in the northern hemisphere, meaning as latitude increases, the cloudiness also increases. The relationship appears to be similar in the southern hemisphere (r^2=0.13), there is still a small positive correlation, meaning that as latitude increases, so does the cloudiness. Both of these correlations are small, indicating that latitude likely does not play a large role in overall cloudiness for the cities sampled."
   ]
  },
  {
   "cell_type": "markdown",
   "metadata": {},
   "source": [
    "### Wind Speed vs. Latitude Linear Regression Plot"
   ]
  },
  {
   "cell_type": "code",
   "execution_count": 27,
   "metadata": {},
   "outputs": [
    {
     "name": "stdout",
     "output_type": "stream",
     "text": [
      "The r-squared value is 0.03666410725743606.\n"
     ]
    },
    {
     "data": {
      "image/png": "[encoded data removed]",
      "text/plain": [
       "<Figure size 432x288 with 1 Axes>"
      ]
     },
     "metadata": {
      "needs_background": "light"
     },
     "output_type": "display_data"
    }
   ],
   "source": [
    "# Northern Hemisphere\n",
    "northwind = linearRegression(y=n_hem[\"Wind Speed\"], x=n_hem[\"Lat\"])\n",
    "plt.title(\"Northern Hemisphere vs Wind Speed\")\n",
    "plt.xlabel('Latitude')\n",
    "plt.ylabel('Wind Speed')\n",
    "plt.annotate(northwind, (0,15), fontsize=15,color=\"red\")\n",
    "plt.show()"
   ]
  },
  {
   "cell_type": "code",
   "execution_count": 22,
   "metadata": {},
   "outputs": [
    {
     "name": "stdout",
     "output_type": "stream",
     "text": [
      "The r-squared value is 0.17845487498466844.\n"
     ]
    },
    {
     "data": {
      "image/png": "[encoded data removed]",
      "text/plain": [
       "<Figure size 432x288 with 1 Axes>"
      ]
     },
     "metadata": {
      "needs_background": "light"
     },
     "output_type": "display_data"
    }
   ],
   "source": [
    "# Southern Hemisphere\n",
    "southwind = linearRegression(y=s_hem[\"Wind Speed\"], x=s_hem[\"Lat\"])\n",
    "plt.title(\"Southern Hemisphere vs Wind Speed\")\n",
    "plt.xlabel('Latitude')\n",
    "plt.ylabel('Wind Speed')\n",
    "plt.annotate(southwind, (-50,12), fontsize=15,color=\"red\")\n",
    "plt.show()"
   ]
  },
  {
   "cell_type": "markdown",
   "metadata": {},
   "source": [
    "**Discussion about the linear relationship:** \n",
    "#### There is a small positive correlation (r^2=0.04) between latitude and wind speed in the northern hemisphere, meaning as latitude increases, the wind speed also increases. The relationship appears to be the opposite in the southern hemisphere (r^2=-0.18), there is a small negative correlation, meaning that as latitude increases, the wind speed decreases. Both of these correlations are small, indicating that latitude likely does not play a large role in overall wind speed for the cities sampled."
   ]
  },
  {
   "cell_type": "code",
   "execution_count": null,
   "metadata": {},
   "outputs": [],
   "source": []
  }
 ],
 "metadata": {
  "anaconda-cloud": {},
  "kernel_info": {
   "name": "python3"
  },
  "kernelspec": {
   "display_name": "Python 3 (ipykernel)",
   "language": "python",
   "name": "python3"
  },
  "language_info": {
   "codemirror_mode": {
    "name": "ipython",
    "version": 3
   },
   "file_extension": ".py",
   "mimetype": "text/x-python",
   "name": "python",
   "nbconvert_exporter": "python",
   "pygments_lexer": "ipython3",
   "version": "3.9.12"
  },
  "latex_envs": {
   "LaTeX_envs_menu_present": true,
   "autoclose": false,
   "autocomplete": true,
   "bibliofile": "biblio.bib",
   "cite_by": "apalike",
   "current_citInitial": 1,
   "eqLabelWithNumbers": true,
   "eqNumInitial": 1,
   "hotkeys": {
    "equation": "Ctrl-E",
    "itemize": "Ctrl-I"
   },
   "labels_anchors": false,
   "latex_user_defs": false,
   "report_style_numbering": false,
   "user_envs_cfg": false
  },
  "nteract": {
   "version": "0.12.3"
  }
 },
 "nbformat": 4,
 "nbformat_minor": 4
}
